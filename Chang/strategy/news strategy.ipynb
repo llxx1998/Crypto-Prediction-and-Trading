{
 "cells": [
  {
   "cell_type": "code",
   "execution_count": 1,
   "id": "689c99d6",
   "metadata": {},
   "outputs": [],
   "source": [
    "import nltk\n",
    "from nltk import word_tokenize\n",
    "import pandas as pd\n",
    "import numpy as np"
   ]
  },
  {
   "cell_type": "code",
   "execution_count": 2,
   "id": "9eef19ee",
   "metadata": {},
   "outputs": [],
   "source": [
    "def tokenize(text):\n",
    "    words = word_tokenize(text.lower())\n",
    "    interpunctuations = [',', '.', ':', ';', '?', '(', ')', '[', ']', '&', '!', '*', '@', '#', '$', '%']\n",
    "    words = [word for word in words if word not in interpunctuations]  \n",
    "    return words"
   ]
  },
  {
   "cell_type": "code",
   "execution_count": 3,
   "id": "be04fe73",
   "metadata": {},
   "outputs": [],
   "source": [
    "df = pd.read_csv(\"price_vol.csv\")\n",
    "df.rename(columns={df.columns[0]: 'time'}, inplace=True)\n",
    "df = df.loc[:, ['time', 'BTC-close']]\n",
    "df['time'] = pd.to_datetime(df['time'].str[:19])\n",
    "df.set_index('time', inplace=True)\n",
    "df['BTC-return'] = df['BTC-close'].pct_change()"
   ]
  },
  {
   "cell_type": "code",
   "execution_count": 4,
   "id": "2d242990",
   "metadata": {},
   "outputs": [],
   "source": [
    "def transfer(s):\n",
    "    return np.nan if s == '[[], [], []]' else s\n",
    "\n",
    "df1 = pd.read_csv('news.csv')\n",
    "df1.rename(columns={df1.columns[0]: 'time'}, inplace=True)\n",
    "df1['time'] = pd.to_datetime(df1['time'])\n",
    "df1.set_index('time', inplace=True)\n",
    "df1 = df1[['BTC']]\n",
    "df1.columns = ['news']\n",
    "df1['news'] = df1['news'].apply(transfer)\n",
    "df = df1.shift(-1).merge(df[['BTC-return']], left_index=True, right_index=True, how='inner')"
   ]
  },
  {
   "cell_type": "code",
   "execution_count": 5,
   "id": "62080c00",
   "metadata": {},
   "outputs": [],
   "source": [
    "idx = int(len(df) * 0.92)\n",
    "split_time = df.index[idx]\n",
    "train = df.iloc[:idx].dropna()\n",
    "test = df.iloc[idx:].ffill()\n",
    "X_train = np.array(train['news'])\n",
    "y_train = (train['BTC-return'] > 0).astype(int)\n",
    "X_test = np.array(test['news'])\n",
    "y_test = (test['BTC-return'] > 0).astype(int)"
   ]
  },
  {
   "cell_type": "code",
   "execution_count": 6,
   "id": "7e1076e0",
   "metadata": {},
   "outputs": [
    {
     "data": {
      "text/plain": [
       "array(<3692x21027 sparse matrix of type '<class 'numpy.int64'>'\n",
       "\twith 379789 stored elements in Compressed Sparse Row format>,\n",
       "      dtype=object)"
      ]
     },
     "execution_count": 6,
     "metadata": {},
     "output_type": "execute_result"
    }
   ],
   "source": [
    "from sklearn.feature_extraction.text import CountVectorizer   \n",
    "\n",
    "vec = CountVectorizer()\n",
    "X_train = vec.fit_transform(X_train)\n",
    "X_test = vec.transform(X_test)\n",
    "\n",
    "np.array(X_train)"
   ]
  },
  {
   "cell_type": "code",
   "execution_count": 7,
   "id": "0628f4eb",
   "metadata": {},
   "outputs": [],
   "source": [
    "from sklearn.naive_bayes import MultinomialNB\n",
    "mnb = MultinomialNB()\n",
    "mnb.fit(X_train, y_train)\n",
    "y_predict = mnb.predict(X_test)"
   ]
  },
  {
   "cell_type": "code",
   "execution_count": 8,
   "id": "2905749b",
   "metadata": {},
   "outputs": [
    {
     "data": {
      "text/plain": [
       "array([1, 0, 0, 0, 0, 0, 1, 0, 0, 1, 0, 1, 0, 0, 0, 0, 0, 0, 0, 0, 1, 1,\n",
       "       1, 1, 1, 1, 1, 1, 1, 0, 0, 1, 1, 1, 0, 0, 1, 1, 1, 1, 1, 0, 0, 0,\n",
       "       0, 0, 1, 1, 1, 1, 1, 0, 0, 1, 0, 0, 0, 1, 1, 1, 0, 0, 0, 0, 0, 0,\n",
       "       0, 0, 0, 0, 0, 0, 0, 0, 0, 1, 1, 1, 0, 1, 1, 1, 1, 1, 0, 0, 0, 0,\n",
       "       1, 1, 0, 0, 0, 1, 1, 1, 1, 0, 0, 0, 1, 0, 1, 0, 1, 0, 1, 1, 1, 1,\n",
       "       1, 1, 1, 0, 0, 0, 0, 0, 1, 1, 1, 0, 0, 1, 0, 0, 0, 0, 0, 1, 0, 1,\n",
       "       1, 1, 1, 1, 1, 1, 1, 1, 1, 1, 1, 0, 0, 0, 0, 1, 1, 1, 1, 0, 1, 1,\n",
       "       0, 0, 0, 1, 1, 0, 0, 0, 0, 0, 1, 0, 0, 0, 0, 1, 1, 0, 1, 0, 1, 1,\n",
       "       0, 1, 1, 0, 0, 1, 0, 0, 0, 0, 0, 0, 1, 1, 1, 0, 0, 0, 1, 0, 0, 0,\n",
       "       0, 1, 1, 0, 0, 1, 0, 0, 1, 1, 1, 1, 1, 1, 1, 1, 1, 0, 1, 1, 0, 0,\n",
       "       0, 0, 1, 0, 0, 1, 1, 1, 1, 0, 0, 0, 0, 0, 1, 1, 1, 1, 0, 1, 1, 1,\n",
       "       1, 0, 1, 0, 0, 0, 0, 0, 0, 1, 1, 0, 0, 0, 1, 1, 1, 1, 1, 0, 0, 0,\n",
       "       0, 0, 0, 0, 1, 0, 1, 1, 1, 0, 1, 0, 0, 0, 0, 1, 0, 1, 0, 0, 0, 1,\n",
       "       1, 1, 0, 0, 1, 1, 1, 1, 1, 1, 0, 0, 1, 1, 1, 1, 1, 1, 0, 1, 1, 1,\n",
       "       1, 1, 1, 1, 1, 1, 1, 1, 0, 1, 0, 1, 1, 1, 1, 0, 0, 0, 1, 0, 0, 0,\n",
       "       0, 0, 0, 0, 0, 1, 0, 0, 0, 0, 0, 0, 1, 1, 1, 0, 1, 1, 0, 0, 1, 1,\n",
       "       1, 1, 1, 1, 0, 0, 0, 1, 0, 0, 0, 1, 1, 0, 0, 0, 1, 0, 1, 0, 0, 0,\n",
       "       0, 0, 0, 0, 0, 0, 1, 1, 1, 0, 0, 1, 1, 0, 1, 1, 1, 1, 0, 0, 0, 0,\n",
       "       0, 0, 0, 0])"
      ]
     },
     "execution_count": 8,
     "metadata": {},
     "output_type": "execute_result"
    }
   ],
   "source": [
    "y_predict"
   ]
  },
  {
   "cell_type": "code",
   "execution_count": 9,
   "id": "d5aa15ce",
   "metadata": {},
   "outputs": [
    {
     "data": {
      "text/plain": [
       "time\n",
       "2022-09-08 09:00:00    0\n",
       "2022-09-08 10:00:00    1\n",
       "2022-09-08 11:00:00    1\n",
       "2022-09-08 12:00:00    0\n",
       "2022-09-08 13:00:00    1\n",
       "                      ..\n",
       "2022-09-24 20:00:00    1\n",
       "2022-09-24 21:00:00    0\n",
       "2022-09-24 22:00:00    0\n",
       "2022-09-24 23:00:00    1\n",
       "2022-09-25 00:00:00    1\n",
       "Name: BTC-return, Length: 400, dtype: int64"
      ]
     },
     "execution_count": 9,
     "metadata": {},
     "output_type": "execute_result"
    }
   ],
   "source": [
    "y_test"
   ]
  },
  {
   "cell_type": "code",
   "execution_count": 10,
   "id": "77e788f3",
   "metadata": {},
   "outputs": [
    {
     "data": {
      "text/plain": [
       "0.465"
      ]
     },
     "execution_count": 10,
     "metadata": {},
     "output_type": "execute_result"
    }
   ],
   "source": [
    "assert len(y_test) == len(y_predict)\n",
    "cnt = 0\n",
    "for i in range(len(test)):\n",
    "    if y_predict[i] == y_test[i]:\n",
    "        cnt += 1\n",
    "cnt / len(test)"
   ]
  },
  {
   "cell_type": "code",
   "execution_count": 12,
   "id": "fdf116d1",
   "metadata": {},
   "outputs": [
    {
     "data": {
      "text/html": [
       "<div>\n",
       "<style scoped>\n",
       "    .dataframe tbody tr th:only-of-type {\n",
       "        vertical-align: middle;\n",
       "    }\n",
       "\n",
       "    .dataframe tbody tr th {\n",
       "        vertical-align: top;\n",
       "    }\n",
       "\n",
       "    .dataframe thead th {\n",
       "        text-align: right;\n",
       "    }\n",
       "</style>\n",
       "<table border=\"1\" class=\"dataframe\">\n",
       "  <thead>\n",
       "    <tr style=\"text-align: right;\">\n",
       "      <th></th>\n",
       "      <th>news</th>\n",
       "      <th>BTC-return</th>\n",
       "    </tr>\n",
       "    <tr>\n",
       "      <th>time</th>\n",
       "      <th></th>\n",
       "      <th></th>\n",
       "    </tr>\n",
       "  </thead>\n",
       "  <tbody>\n",
       "    <tr>\n",
       "      <th>2022-03-01 12:00:00</th>\n",
       "      <td>[['Geopolitical Risk Returns for Global Market...</td>\n",
       "      <td>0.023116</td>\n",
       "    </tr>\n",
       "    <tr>\n",
       "      <th>2022-03-02 02:00:00</th>\n",
       "      <td>[['Asian shares slip, oil surges again as Russ...</td>\n",
       "      <td>0.003759</td>\n",
       "    </tr>\n",
       "    <tr>\n",
       "      <th>2022-03-02 07:00:00</th>\n",
       "      <td>[['Business Highlights: Lobbyists leaving, rat...</td>\n",
       "      <td>-0.000733</td>\n",
       "    </tr>\n",
       "    <tr>\n",
       "      <th>2022-03-02 08:00:00</th>\n",
       "      <td>[['Business Highlights: Lobbyists leaving, rat...</td>\n",
       "      <td>0.000519</td>\n",
       "    </tr>\n",
       "    <tr>\n",
       "      <th>2022-03-02 10:00:00</th>\n",
       "      <td>[['Millions for Crypto Start-Ups, No Real Name...</td>\n",
       "      <td>0.004599</td>\n",
       "    </tr>\n",
       "    <tr>\n",
       "      <th>...</th>\n",
       "      <td>...</td>\n",
       "      <td>...</td>\n",
       "    </tr>\n",
       "    <tr>\n",
       "      <th>2022-09-24 13:00:00</th>\n",
       "      <td>[[\"3 Red Flags for Block's Future\", 'How crypt...</td>\n",
       "      <td>-0.000711</td>\n",
       "    </tr>\n",
       "    <tr>\n",
       "      <th>2022-09-24 14:00:00</th>\n",
       "      <td>[[\"'We Do Not View This As Proprietary Trading...</td>\n",
       "      <td>-0.001582</td>\n",
       "    </tr>\n",
       "    <tr>\n",
       "      <th>2022-09-24 15:00:00</th>\n",
       "      <td>[['How Has The Rise And Fall Of Dogecoin, Shib...</td>\n",
       "      <td>-0.000710</td>\n",
       "    </tr>\n",
       "    <tr>\n",
       "      <th>2022-09-24 17:00:00</th>\n",
       "      <td>[['The biggest Bitcoin fund just hit a record ...</td>\n",
       "      <td>-0.001375</td>\n",
       "    </tr>\n",
       "    <tr>\n",
       "      <th>2022-09-24 23:00:00</th>\n",
       "      <td>[[\"Ethereum Merge pushes China's GPU prices to...</td>\n",
       "      <td>0.002818</td>\n",
       "    </tr>\n",
       "  </tbody>\n",
       "</table>\n",
       "<p>4004 rows × 2 columns</p>\n",
       "</div>"
      ],
      "text/plain": [
       "                                                                  news  \\\n",
       "time                                                                     \n",
       "2022-03-01 12:00:00  [['Geopolitical Risk Returns for Global Market...   \n",
       "2022-03-02 02:00:00  [['Asian shares slip, oil surges again as Russ...   \n",
       "2022-03-02 07:00:00  [['Business Highlights: Lobbyists leaving, rat...   \n",
       "2022-03-02 08:00:00  [['Business Highlights: Lobbyists leaving, rat...   \n",
       "2022-03-02 10:00:00  [['Millions for Crypto Start-Ups, No Real Name...   \n",
       "...                                                                ...   \n",
       "2022-09-24 13:00:00  [[\"3 Red Flags for Block's Future\", 'How crypt...   \n",
       "2022-09-24 14:00:00  [[\"'We Do Not View This As Proprietary Trading...   \n",
       "2022-09-24 15:00:00  [['How Has The Rise And Fall Of Dogecoin, Shib...   \n",
       "2022-09-24 17:00:00  [['The biggest Bitcoin fund just hit a record ...   \n",
       "2022-09-24 23:00:00  [[\"Ethereum Merge pushes China's GPU prices to...   \n",
       "\n",
       "                     BTC-return  \n",
       "time                             \n",
       "2022-03-01 12:00:00    0.023116  \n",
       "2022-03-02 02:00:00    0.003759  \n",
       "2022-03-02 07:00:00   -0.000733  \n",
       "2022-03-02 08:00:00    0.000519  \n",
       "2022-03-02 10:00:00    0.004599  \n",
       "...                         ...  \n",
       "2022-09-24 13:00:00   -0.000711  \n",
       "2022-09-24 14:00:00   -0.001582  \n",
       "2022-09-24 15:00:00   -0.000710  \n",
       "2022-09-24 17:00:00   -0.001375  \n",
       "2022-09-24 23:00:00    0.002818  \n",
       "\n",
       "[4004 rows x 2 columns]"
      ]
     },
     "execution_count": 12,
     "metadata": {},
     "output_type": "execute_result"
    }
   ],
   "source": [
    "df.dropna()"
   ]
  },
  {
   "cell_type": "code",
   "execution_count": null,
   "id": "fcc00075",
   "metadata": {},
   "outputs": [],
   "source": []
  }
 ],
 "metadata": {
  "kernelspec": {
   "display_name": "Python 3 (ipykernel)",
   "language": "python",
   "name": "python3"
  },
  "language_info": {
   "codemirror_mode": {
    "name": "ipython",
    "version": 3
   },
   "file_extension": ".py",
   "mimetype": "text/x-python",
   "name": "python",
   "nbconvert_exporter": "python",
   "pygments_lexer": "ipython3",
   "version": "3.9.7"
  },
  "toc": {
   "base_numbering": 1,
   "nav_menu": {},
   "number_sections": true,
   "sideBar": true,
   "skip_h1_title": false,
   "title_cell": "Table of Contents",
   "title_sidebar": "Contents",
   "toc_cell": false,
   "toc_position": {},
   "toc_section_display": true,
   "toc_window_display": false
  }
 },
 "nbformat": 4,
 "nbformat_minor": 5
}
