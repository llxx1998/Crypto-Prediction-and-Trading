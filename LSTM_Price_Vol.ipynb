{
 "cells": [
  {
   "cell_type": "code",
   "execution_count": 1,
   "id": "3dfd3f17",
   "metadata": {},
   "outputs": [],
   "source": [
    "import pandas as pd\n",
    "import numpy as np\n",
    "from sklearn.model_selection import train_test_split\n",
    "from sklearn.linear_model import LogisticRegression\n",
    "from sklearn.metrics import accuracy_score\n",
    "from sklearn.pipeline import Pipeline\n",
    "from sklearn.model_selection import TimeSeriesSplit\n",
    "from sklearn.model_selection import cross_val_score\n",
    "from sklearn.preprocessing import StandardScaler\n",
    "from sklearn.linear_model import LogisticRegression\n",
    "from sklearn import svm\n",
    "from sklearn import tree\n",
    "from sklearn.ensemble import RandomForestClassifier\n",
    "from sklearn.metrics import classification_report\n",
    "from sklearn.metrics import confusion_matrix\n",
    "import matplotlib.pyplot as plt\n",
    "import seaborn as sns\n",
    "import warnings\n",
    "warnings.filterwarnings(action='ignore')"
   ]
  },
  {
   "cell_type": "code",
   "execution_count": 2,
   "id": "d63b5e86",
   "metadata": {},
   "outputs": [],
   "source": [
    "import torch\n",
    "from torch import nn\n",
    "from torch.nn import functional as F\n",
    "from torch.utils.data import Dataset, DataLoader"
   ]
  },
  {
   "cell_type": "code",
   "execution_count": 3,
   "id": "0de7e503",
   "metadata": {},
   "outputs": [],
   "source": [
    "class EarlyStopping:\n",
    "    \"\"\"Early stops the training if validation loss doesn't improve after a given patience.\"\"\"\n",
    "    def __init__(self, patience=7, verbose=False, delta=0):\n",
    "        \"\"\"\n",
    "        Args:\n",
    "            patience (int): How long to wait after last time validation loss improved.\n",
    "                            Default: 7\n",
    "            verbose (bool): If True, prints a message for each validation loss improvement.\n",
    "                            Default: False\n",
    "            delta (float): Minimum change in the monitored quantity to qualify as an improvement.\n",
    "                            Default: 0\n",
    "        \"\"\"\n",
    "        self.patience = patience\n",
    "        self.verbose = verbose\n",
    "        self.counter = 0\n",
    "        self.best_score = None\n",
    "        self.early_stop = False\n",
    "        self.val_loss_min = np.Inf\n",
    "        self.delta = delta\n",
    "\n",
    "    def __call__(self, val_loss, model):\n",
    "\n",
    "        score = -val_loss\n",
    "\n",
    "        if self.best_score is None:\n",
    "            self.best_score = score\n",
    "            self.save_checkpoint(val_loss, model)\n",
    "        elif score < self.best_score + self.delta:\n",
    "            self.counter += 1\n",
    "            print(f'EarlyStopping counter: {self.counter} out of {self.patience}')\n",
    "            if self.counter >= self.patience:\n",
    "                self.early_stop = True\n",
    "        else:\n",
    "            self.best_score = score\n",
    "            self.save_checkpoint(val_loss, model)\n",
    "            self.counter = 0\n",
    "\n",
    "    def save_checkpoint(self, val_loss, model):\n",
    "        '''\n",
    "        Saves model when validation loss decrease.\n",
    "        '''\n",
    "        if self.verbose:\n",
    "            print(f'Validation loss decreased ({self.val_loss_min:.6f} --> {val_loss:.6f}).  Saving model ...')\n",
    "        torch.save(model.state_dict(), 'checkpoint.pt')\n",
    "        self.val_loss_min = val_loss"
   ]
  },
  {
   "cell_type": "code",
   "execution_count": 4,
   "id": "4f9129a2",
   "metadata": {},
   "outputs": [],
   "source": [
    "class PriceVolPredict:\n",
    "    def __init__(self, path='./price_vol_filledNa.csv'):\n",
    "        self.df = pd.read_csv(path, index_col=0)\n",
    "    \n",
    "    @staticmethod\n",
    "    def ColSelector(df: pd.DataFrame, series=None, toker_list=None):\n",
    "        cols = df.columns\n",
    "        res = []\n",
    "        if series and toker_list:\n",
    "            res = [x for x in cols if x.split('-')[0] in toker_list and x.split('-')[1] in series]\n",
    "        elif series:\n",
    "            res = [x for x in cols if x.split('-')[1] in series]\n",
    "        elif toker_list:\n",
    "            res = [x for x in cols if x.split('-')[0] in toker_list]\n",
    "        return res    \n",
    "    \n",
    "    def train_test(self, test_size=0.1):\n",
    "        # X = self.df.drop(columns=['BTC-close', 'BTC-open', 'BTC-high', 'BTC-low']).shift(1).iloc[1:, :]\n",
    "        X = self.df.shift(1).iloc[1:, :]\n",
    "        Y = (self.df[['BTC-close']].iloc[1:, :] > 0)\n",
    "        return train_test_split(X, Y, test_size = 0.1, shuffle=False)\n",
    "    \n",
    "    @staticmethod\n",
    "    def backtest(real_return, signal):\n",
    "        \"\"\"\n",
    "        This is a basic version of backtesting, where signal 1 represents buy/hold whereas \n",
    "        signal 0 represents sell/emtpy. The starting amount is 1. \n",
    "        \"\"\"\n",
    "        strategy = (signal * (1 + real_return)).cumprod()\n",
    "        benchmark = (1 + real_return).cumprod()\n",
    "        return pd.DataFrame({\"benchmark\": benchmark, \"strategy\": strategy}).plot()\n",
    "    \n",
    "    @staticmethod\n",
    "    def Generate3D(X_df, Y_df, lag = 96):\n",
    "        X = []\n",
    "        for col in X_df.columns:\n",
    "            temp = X_df[[col]].copy()\n",
    "            for i in range(1, lag+1):\n",
    "                temp[str(i) + col] = temp[col].shift(i)\n",
    "            temp = temp.iloc[lag:, :]\n",
    "            X.append(temp.values)\n",
    "        X = np.array(X)\n",
    "        X = np.swapaxes(X, 0, 1)\n",
    "        X = np.swapaxes(X, 1, 2)\n",
    "\n",
    "        return X, np.array(Y_df.iloc[lag:, :])"
   ]
  },
  {
   "cell_type": "code",
   "execution_count": 5,
   "id": "deb474ee",
   "metadata": {},
   "outputs": [
    {
     "data": {
      "text/plain": [
       "((15750, 250), (1750, 250), (15750, 1), (1750, 1))"
      ]
     },
     "execution_count": 5,
     "metadata": {},
     "output_type": "execute_result"
    }
   ],
   "source": [
    "p_v = PriceVolPredict()\n",
    "X_train_all, X_test, Y_train_all, Y_test = p_v.train_test()\n",
    "X_train_all.shape, X_test.shape, Y_train_all.shape, Y_test.shape"
   ]
  },
  {
   "cell_type": "code",
   "execution_count": 6,
   "id": "f639f167",
   "metadata": {},
   "outputs": [],
   "source": [
    "n_lag = 96\n",
    "X_train_all, Y_train_all = PriceVolPredict.Generate3D(X_train_all, Y_train_all)\n",
    "X_test, Y_test = PriceVolPredict.Generate3D(X_test, Y_test)"
   ]
  },
  {
   "cell_type": "code",
   "execution_count": 7,
   "id": "9d03d5ec",
   "metadata": {},
   "outputs": [],
   "source": [
    "X_train_pt = torch.from_numpy(X_train_all).type(torch.Tensor)\n",
    "X_test_pt = torch.from_numpy(X_test).type(torch.Tensor)\n",
    "Y_train_pt = torch.from_numpy(Y_train_all).type(torch.Tensor)\n",
    "Y_test_pt = torch.from_numpy(Y_test).type(torch.Tensor)"
   ]
  },
  {
   "cell_type": "code",
   "execution_count": 8,
   "id": "a55748e3",
   "metadata": {},
   "outputs": [],
   "source": [
    "class CustomDataset(Dataset):\n",
    "    def __init__(self, X, Y):\n",
    "        self.X = X\n",
    "        self.Y = Y\n",
    "    \n",
    "    def __len__(self):\n",
    "        return self.X.shape[0]\n",
    "    \n",
    "    def __getitem__(self, idx):\n",
    "        return self.X[idx, :, :], self.Y[idx]"
   ]
  },
  {
   "cell_type": "code",
   "execution_count": 9,
   "id": "d857a636",
   "metadata": {},
   "outputs": [],
   "source": [
    "n = X_train_all.shape[0]\n",
    "\n",
    "TrainSet = CustomDataset(X_train_all[:int(0.8*n), :, :], Y_train_all[:int(0.8*n), :])\n",
    "TrainLoader = DataLoader(TrainSet, batch_size=32, shuffle=False)\n",
    "\n",
    "ValidSet = CustomDataset(X_train_all[int(0.8*n):, :, :], Y_train_all[int(0.8*n):, :])\n",
    "ValidLoader = DataLoader(ValidSet, batch_size=1, shuffle=False)\n",
    "\n",
    "TestSet = CustomDataset(X_test, Y_test)\n",
    "TestLoader = DataLoader(TestSet, batch_size=1, shuffle=False)"
   ]
  },
  {
   "cell_type": "code",
   "execution_count": 10,
   "id": "2ca911d1",
   "metadata": {},
   "outputs": [],
   "source": [
    "class LSTM1(nn.Module):\n",
    "    def __init__(self, num_classes, input_size, hidden_size, num_layers, seq_length):\n",
    "        super(LSTM1, self).__init__()\n",
    "        self.num_classes = num_classes #number of classes\n",
    "        self.num_layers = num_layers #number of layers\n",
    "        self.input_size = input_size #input size\n",
    "        self.hidden_size = hidden_size #hidden state\n",
    "        self.seq_length = seq_length #sequence length\n",
    "\n",
    "        self.lstm = nn.LSTM(input_size=input_size, hidden_size=hidden_size,\n",
    "                          num_layers=num_layers, batch_first=True) #lstm\n",
    "        self.fc_1 =  nn.Linear(hidden_size, 64) #fully connected 1\n",
    "        self.fc = nn.Linear(64, num_classes) #fully connected last layer\n",
    "    \n",
    "    def forward(self,x):\n",
    "        h_0 = torch.zeros(self.num_layers, x.size(0), self.hidden_size).requires_grad_() #hidden state\n",
    "        c_0 = torch.zeros(self.num_layers, x.size(0), self.hidden_size).requires_grad_() #internal state\n",
    "        # Propagate input through LSTM\n",
    "        output, (hn, cn) = self.lstm(x, (h_0, c_0)) #lstm with input, hidden, and internal state\n",
    "        hn = hn.view(-1, self.hidden_size) #reshaping the data for Dense layer next\n",
    "        out = F.relu(hn)\n",
    "        out = F.relu(self.fc_1(out)) #first Dense\n",
    "        out = F.sigmoid(self.fc(out)) #Final Output\n",
    "        return out"
   ]
  },
  {
   "cell_type": "code",
   "execution_count": 11,
   "id": "51c3abe4",
   "metadata": {},
   "outputs": [],
   "source": [
    "num_epochs = 50 #1000 epochs\n",
    "learning_rate = 0.005 #0.001 lr\n",
    "\n",
    "input_size = 250 #number of features\n",
    "hidden_size = 128 #number of features in hidden state\n",
    "num_layers = 1 #number of stacked lstm layers\n",
    "\n",
    "num_classes = 1 #number of output classes "
   ]
  },
  {
   "cell_type": "code",
   "execution_count": 12,
   "id": "1b92edd2",
   "metadata": {},
   "outputs": [],
   "source": [
    "lstm1 = LSTM1(num_classes, \n",
    "              input_size, \n",
    "              hidden_size, \n",
    "              num_layers, \n",
    "              X_train_pt.shape[1])\n",
    "\n",
    "criterion = torch.nn.BCELoss(reduction='sum')\n",
    "optimizer = torch.optim.Adam(lstm1.parameters(), lr=learning_rate)\n"
   ]
  },
  {
   "cell_type": "code",
   "execution_count": 13,
   "id": "9d13e902",
   "metadata": {},
   "outputs": [],
   "source": [
    "# for epoch in range(num_epochs):\n",
    "#     outputs = lstm1.forward(X_train_pt) #forward pass\n",
    "#     optimizer.zero_grad() #caluclate the gradient, manually setting to 0\n",
    " \n",
    "#     # obtain the loss function\n",
    "#     loss = criterion(outputs, Y_train_pt.float())\n",
    " \n",
    "#     loss.backward() #calculates the loss of the loss function\n",
    "#     optimizer.step() #improve from loss, i.e backprop\n",
    "#     print(\"Epoch: %d, loss: %1.10f\" % (epoch, loss.item())) "
   ]
  },
  {
   "cell_type": "code",
   "execution_count": 16,
   "id": "3646367d",
   "metadata": {},
   "outputs": [],
   "source": [
    "def training_loop(n_epochs, optimizer, model, loss_fn, trainloader, validloader):\n",
    "    train_loss_ls, valid_loss_ls = [], []\n",
    "    early_stopping = EarlyStopping(patience=7, verbose=True)\n",
    "    for epoch in range(1, n_epochs + 1):\n",
    "        model.train()\n",
    "        num_train = 0\n",
    "        total_loss_train = 0\n",
    "        for train_inputs, train_labels in trainloader:\n",
    "            optimizer.zero_grad()\n",
    "            train_inputs = train_inputs.float()\n",
    "            train_labels = train_labels.float()\n",
    "            t_p_train = model(train_inputs)\n",
    "            loss_train = loss_fn(t_p_train, train_labels)\n",
    "            num_train += train_inputs.size(0)\n",
    "            total_loss_train += loss_train.item()\n",
    "            loss_train.backward()\n",
    "            optimizer.step()\n",
    "        train_loss_ls.append(total_loss_train/num_train)\n",
    "        print(f\"train loss: {total_loss_train/num_train}\", end=';')\n",
    "        \n",
    "        model.eval()\n",
    "        num_valid = 0\n",
    "        total_loss_valid = 0\n",
    "        with torch.no_grad():\n",
    "            for valid_input, valid_label in validloader:\n",
    "                valid_input = valid_input.float()\n",
    "                valid_label = valid_label.float()\n",
    "                valid_hat = model(valid_input)\n",
    "                loss_val = loss_fn(valid_hat, valid_label)\n",
    "                num_valid += valid_input.size(0)\n",
    "                total_loss_valid += loss_val.item()\n",
    "        valid_loss_ls.append(total_loss_valid/num_valid)\n",
    "        print(f\"Validation loss: {total_loss_valid/num_valid}\")\n",
    "        early_stopping(total_loss_valid/num_valid, model)\n",
    "        if early_stopping.early_stop:\n",
    "            print(\"Early stopping\")\n",
    "            break\n",
    "    model.load_state_dict(torch.load('checkpoint.pt'))\n",
    "    return model, train_loss_ls, valid_loss_ls\n",
    "                \n",
    "                \n",
    "#         t_p_val = model(t_u_val)\n",
    "#         loss_val = loss_fn(t_p_val, t_c_val)\n",
    "        \n",
    "#         optimizer.zero_grad()\n",
    "#         loss_train.backward()\n",
    "#         optimizer.step()"
   ]
  },
  {
   "cell_type": "code",
   "execution_count": 17,
   "id": "d8cf1910",
   "metadata": {},
   "outputs": [
    {
     "name": "stdout",
     "output_type": "stream",
     "text": [
      "train loss: 0.6440688220207411;Validation loss: 0.7397898440053318\n",
      "Validation loss decreased (inf --> 0.739790).  Saving model ...\n",
      "train loss: 0.6355093373264604;Validation loss: 0.7233093790302463\n",
      "Validation loss decreased (0.739790 --> 0.723309).  Saving model ...\n",
      "train loss: 0.6298309200670376;Validation loss: 0.7519167775372403\n",
      "EarlyStopping counter: 1 out of 7\n",
      "train loss: 0.6247188099693074;Validation loss: 0.7359566136180916\n",
      "EarlyStopping counter: 2 out of 7\n",
      "train loss: 0.621855152821299;Validation loss: 0.765319409243675\n",
      "EarlyStopping counter: 3 out of 7\n",
      "train loss: 0.6202274554550462;Validation loss: 0.7436423791787435\n",
      "EarlyStopping counter: 4 out of 7\n",
      "train loss: 0.6099161292611244;Validation loss: 0.757013741344312\n",
      "EarlyStopping counter: 5 out of 7\n",
      "train loss: 0.6017947164595074;Validation loss: 0.772289244776223\n",
      "EarlyStopping counter: 6 out of 7\n",
      "train loss: 0.5990412623454119;Validation loss: 0.7620132983833893\n",
      "EarlyStopping counter: 7 out of 7\n",
      "Early stopping\n"
     ]
    }
   ],
   "source": [
    "lstm1, train_loss_ls, valid_loss_ls = training_loop(num_epochs,\n",
    "              optimizer, \n",
    "              lstm1,\n",
    "              criterion,\n",
    "              TrainLoader,\n",
    "              ValidLoader)"
   ]
  },
  {
   "cell_type": "code",
   "execution_count": 18,
   "id": "684e324a",
   "metadata": {},
   "outputs": [
    {
     "data": {
      "text/plain": [
       "LSTM1(\n",
       "  (lstm): LSTM(250, 128, batch_first=True)\n",
       "  (fc_1): Linear(in_features=128, out_features=64, bias=True)\n",
       "  (fc): Linear(in_features=64, out_features=1, bias=True)\n",
       ")"
      ]
     },
     "execution_count": 18,
     "metadata": {},
     "output_type": "execute_result"
    }
   ],
   "source": [
    "lstm1"
   ]
  },
  {
   "cell_type": "code",
   "execution_count": 19,
   "id": "3cc07652",
   "metadata": {},
   "outputs": [],
   "source": [
    "y_hat = []\n",
    "with torch.no_grad():\n",
    "    for test_inputs, test_label in TestLoader:\n",
    "        test_inputs = test_inputs.float()\n",
    "        test_label = test_label.float()\n",
    "        test_hat = lstm1(test_inputs)\n",
    "        y_hat = y_hat + [1 if test_hat > 0.5 else 0]"
   ]
  },
  {
   "cell_type": "code",
   "execution_count": 20,
   "id": "9082e6c3",
   "metadata": {},
   "outputs": [],
   "source": [
    "# input_dim = 3\n",
    "# hidden_dim = 4\n",
    "# num_layers = 2\n",
    "# output_dim = 1\n",
    "# num_epochs = 50"
   ]
  },
  {
   "cell_type": "code",
   "execution_count": 21,
   "id": "89a6e7c4",
   "metadata": {},
   "outputs": [
    {
     "name": "stdout",
     "output_type": "stream",
     "text": [
      "              precision    recall  f1-score   support\n",
      "\n",
      "           1       0.49      0.33      0.39       830\n",
      "           0       0.49      0.65      0.56       824\n",
      "\n",
      "    accuracy                           0.49      1654\n",
      "   macro avg       0.49      0.49      0.48      1654\n",
      "weighted avg       0.49      0.49      0.48      1654\n",
      "\n"
     ]
    }
   ],
   "source": [
    "print(classification_report(Y_test, y_hat,labels=[1, 0]))"
   ]
  },
  {
   "cell_type": "code",
   "execution_count": 22,
   "id": "63046f94",
   "metadata": {},
   "outputs": [
    {
     "data": {
      "image/png": "[encoded data removed]",
      "text/plain": [
       "<Figure size 600x600 with 2 Axes>"
      ]
     },
     "metadata": {},
     "output_type": "display_data"
    }
   ],
   "source": [
    "cm_test = confusion_matrix(Y_test, y_hat, labels = [1, 0])\n",
    "plt.figure(figsize = (6,6))\n",
    "s = sns.heatmap(cm_test, annot= True, fmt = 'd', annot_kws={'size': 16}, \n",
    "                cmap ='YlGnBu', xticklabels=[1, 0], yticklabels=[1, 0])\n",
    "_ = s.set_xlabel('Predicted')\n",
    "_ = s.set_ylabel('True')\n",
    "_ = s.set_title('Confusion Matrix of Test Set')"
   ]
  },
  {
   "cell_type": "code",
   "execution_count": 23,
   "id": "4a989f99",
   "metadata": {},
   "outputs": [
    {
     "data": {
      "text/html": [
       "<div>\n",
       "<style scoped>\n",
       "    .dataframe tbody tr th:only-of-type {\n",
       "        vertical-align: middle;\n",
       "    }\n",
       "\n",
       "    .dataframe tbody tr th {\n",
       "        vertical-align: top;\n",
       "    }\n",
       "\n",
       "    .dataframe thead th {\n",
       "        text-align: right;\n",
       "    }\n",
       "</style>\n",
       "<table border=\"1\" class=\"dataframe\">\n",
       "  <thead>\n",
       "    <tr style=\"text-align: right;\">\n",
       "      <th></th>\n",
       "      <th>BTC-close</th>\n",
       "      <th>hold</th>\n",
       "      <th>signal</th>\n",
       "      <th>strategy</th>\n",
       "    </tr>\n",
       "  </thead>\n",
       "  <tbody>\n",
       "    <tr>\n",
       "      <th>2022-07-18 07:00:00+00:00</th>\n",
       "      <td>0.001829</td>\n",
       "      <td>1.001829</td>\n",
       "      <td>0</td>\n",
       "      <td>1.000000</td>\n",
       "    </tr>\n",
       "    <tr>\n",
       "      <th>2022-07-18 08:00:00+00:00</th>\n",
       "      <td>-0.001316</td>\n",
       "      <td>1.000511</td>\n",
       "      <td>0</td>\n",
       "      <td>1.000000</td>\n",
       "    </tr>\n",
       "    <tr>\n",
       "      <th>2022-07-18 09:00:00+00:00</th>\n",
       "      <td>0.000122</td>\n",
       "      <td>1.000633</td>\n",
       "      <td>0</td>\n",
       "      <td>1.000000</td>\n",
       "    </tr>\n",
       "    <tr>\n",
       "      <th>2022-07-18 10:00:00+00:00</th>\n",
       "      <td>-0.002458</td>\n",
       "      <td>0.998173</td>\n",
       "      <td>0</td>\n",
       "      <td>1.000000</td>\n",
       "    </tr>\n",
       "    <tr>\n",
       "      <th>2022-07-18 11:00:00+00:00</th>\n",
       "      <td>-0.003189</td>\n",
       "      <td>0.994991</td>\n",
       "      <td>0</td>\n",
       "      <td>1.000000</td>\n",
       "    </tr>\n",
       "    <tr>\n",
       "      <th>...</th>\n",
       "      <td>...</td>\n",
       "      <td>...</td>\n",
       "      <td>...</td>\n",
       "      <td>...</td>\n",
       "    </tr>\n",
       "    <tr>\n",
       "      <th>2022-09-25 00:00:00+00:00</th>\n",
       "      <td>0.001259</td>\n",
       "      <td>0.852899</td>\n",
       "      <td>1</td>\n",
       "      <td>1.020606</td>\n",
       "    </tr>\n",
       "    <tr>\n",
       "      <th>2022-09-25 01:00:00+00:00</th>\n",
       "      <td>0.000494</td>\n",
       "      <td>0.853320</td>\n",
       "      <td>1</td>\n",
       "      <td>1.021110</td>\n",
       "    </tr>\n",
       "    <tr>\n",
       "      <th>2022-09-25 02:00:00+00:00</th>\n",
       "      <td>-0.000934</td>\n",
       "      <td>0.852523</td>\n",
       "      <td>1</td>\n",
       "      <td>1.020157</td>\n",
       "    </tr>\n",
       "    <tr>\n",
       "      <th>2022-09-25 03:00:00+00:00</th>\n",
       "      <td>0.004757</td>\n",
       "      <td>0.856579</td>\n",
       "      <td>1</td>\n",
       "      <td>1.025009</td>\n",
       "    </tr>\n",
       "    <tr>\n",
       "      <th>2022-09-25 04:00:00+00:00</th>\n",
       "      <td>0.000190</td>\n",
       "      <td>0.856741</td>\n",
       "      <td>1</td>\n",
       "      <td>1.025204</td>\n",
       "    </tr>\n",
       "  </tbody>\n",
       "</table>\n",
       "<p>1654 rows × 4 columns</p>\n",
       "</div>"
      ],
      "text/plain": [
       "                           BTC-close      hold  signal  strategy\n",
       "2022-07-18 07:00:00+00:00   0.001829  1.001829       0  1.000000\n",
       "2022-07-18 08:00:00+00:00  -0.001316  1.000511       0  1.000000\n",
       "2022-07-18 09:00:00+00:00   0.000122  1.000633       0  1.000000\n",
       "2022-07-18 10:00:00+00:00  -0.002458  0.998173       0  1.000000\n",
       "2022-07-18 11:00:00+00:00  -0.003189  0.994991       0  1.000000\n",
       "...                              ...       ...     ...       ...\n",
       "2022-09-25 00:00:00+00:00   0.001259  0.852899       1  1.020606\n",
       "2022-09-25 01:00:00+00:00   0.000494  0.853320       1  1.021110\n",
       "2022-09-25 02:00:00+00:00  -0.000934  0.852523       1  1.020157\n",
       "2022-09-25 03:00:00+00:00   0.004757  0.856579       1  1.025009\n",
       "2022-09-25 04:00:00+00:00   0.000190  0.856741       1  1.025204\n",
       "\n",
       "[1654 rows x 4 columns]"
      ]
     },
     "execution_count": 23,
     "metadata": {},
     "output_type": "execute_result"
    }
   ],
   "source": [
    "ret = p_v.df[['BTC-close']].iloc[-Y_test.shape[0]:, :]\n",
    "ret['hold'] = (1 + ret['BTC-close']).cumprod()\n",
    "ret['signal'] = y_hat\n",
    "ret['strategy'] = (1 + ret['BTC-close'] * ret['signal']).cumprod()\n",
    "ret"
   ]
  },
  {
   "cell_type": "code",
   "execution_count": 24,
   "id": "a7402aad",
   "metadata": {},
   "outputs": [
    {
     "data": {
      "text/plain": [
       "<AxesSubplot:>"
      ]
     },
     "execution_count": 24,
     "metadata": {},
     "output_type": "execute_result"
    },
    {
     "data": {
      "image/png": "[encoded data removed]",
      "text/plain": [
       "<Figure size 640x480 with 1 Axes>"
      ]
     },
     "metadata": {},
     "output_type": "display_data"
    }
   ],
   "source": [
    "ret[['hold', 'strategy']].plot()"
   ]
  },
  {
   "cell_type": "code",
   "execution_count": null,
   "id": "d8ea8157",
   "metadata": {},
   "outputs": [],
   "source": []
  }
 ],
 "metadata": {
  "kernelspec": {
   "display_name": "Python 3 (ipykernel)",
   "language": "python",
   "name": "python3"
  },
  "language_info": {
   "codemirror_mode": {
    "name": "ipython",
    "version": 3
   },
   "file_extension": ".py",
   "mimetype": "text/x-python",
   "name": "python",
   "nbconvert_exporter": "python",
   "pygments_lexer": "ipython3",
   "version": "3.7.4"
  },
  "toc": {
   "base_numbering": 1,
   "nav_menu": {},
   "number_sections": true,
   "sideBar": true,
   "skip_h1_title": false,
   "title_cell": "Table of Contents",
   "title_sidebar": "Contents",
   "toc_cell": false,
   "toc_position": {},
   "toc_section_display": true,
   "toc_window_display": false
  }
 },
 "nbformat": 4,
 "nbformat_minor": 5
}
