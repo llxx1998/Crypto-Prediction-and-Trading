{
 "cells": [
  {
   "cell_type": "code",
   "execution_count": 1,
   "id": "f66410e0",
   "metadata": {},
   "outputs": [],
   "source": [
    "import pandas as pd\n",
    "import numpy as np\n",
    "import re"
   ]
  },
  {
   "cell_type": "code",
   "execution_count": 2,
   "id": "5c9a6f4c",
   "metadata": {},
   "outputs": [],
   "source": [
    "def get_data(path):\n",
    "    tweets = pd.read_csv(path)\n",
    "    tweets = tweets[['Tweet', 'Date']]\n",
    "    tweets['Date'] = pd.to_datetime(tweets['Date'], utc=True)\n",
    "    tweets = tweets[(tweets['Date'] >= '2020-09-26') \n",
    "                    & (tweets['Date'] <= '2022-09-25')]\n",
    "    tweets['Date'] = tweets['Date'].dt.strftime('%Y-%m-%d %H:00')\n",
    "    tweets.fillna('', inplace=True)\n",
    "    tweets_2 = {\n",
    "        'Date': [],\n",
    "        'Tweet': []\n",
    "    }\n",
    "    for h, df in tweets.groupby(by=['Date']):\n",
    "        df['Tweet'].str.join(' ')\n",
    "        tweets_2['Date'].append(h)\n",
    "        tweets_2['Tweet'].append(\" \".join(df['Tweet'].tolist()))\n",
    "    tweets_2 = pd.DataFrame(tweets_2)\n",
    "    return tweets_2"
   ]
  },
  {
   "cell_type": "code",
   "execution_count": 3,
   "id": "4ae34211",
   "metadata": {},
   "outputs": [],
   "source": [
    "btc_tweets = get_data('./bitcoin_tweets.csv')\n",
    "crypto_tweets = get_data('./crypto_tweets.csv')\n",
    "eth_tweets = get_data('./ethereum_tweets.csv')"
   ]
  },
  {
   "cell_type": "code",
   "execution_count": 4,
   "id": "7c5be946",
   "metadata": {},
   "outputs": [
    {
     "data": {
      "text/html": [
       "<div>\n",
       "<style scoped>\n",
       "    .dataframe tbody tr th:only-of-type {\n",
       "        vertical-align: middle;\n",
       "    }\n",
       "\n",
       "    .dataframe tbody tr th {\n",
       "        vertical-align: top;\n",
       "    }\n",
       "\n",
       "    .dataframe thead th {\n",
       "        text-align: right;\n",
       "    }\n",
       "</style>\n",
       "<table border=\"1\" class=\"dataframe\">\n",
       "  <thead>\n",
       "    <tr style=\"text-align: right;\">\n",
       "      <th></th>\n",
       "      <th>Date</th>\n",
       "      <th>Tweet</th>\n",
       "    </tr>\n",
       "  </thead>\n",
       "  <tbody>\n",
       "    <tr>\n",
       "      <th>0</th>\n",
       "      <td>2020-09-26 00:00</td>\n",
       "      <td>I dunno. 505 sat at this Bitcoin price doesn't...</td>\n",
       "    </tr>\n",
       "    <tr>\n",
       "      <th>1</th>\n",
       "      <td>2020-09-26 02:00</td>\n",
       "      <td>Markaccy reached its highest price on Septembe...</td>\n",
       "    </tr>\n",
       "    <tr>\n",
       "      <th>2</th>\n",
       "      <td>2020-09-26 04:00</td>\n",
       "      <td>bitcoin will finish the monthly candle above 1...</td>\n",
       "    </tr>\n",
       "    <tr>\n",
       "      <th>3</th>\n",
       "      <td>2020-09-26 06:00</td>\n",
       "      <td>An asset that is human-made and starts at a pr...</td>\n",
       "    </tr>\n",
       "    <tr>\n",
       "      <th>4</th>\n",
       "      <td>2020-09-26 07:00</td>\n",
       "      <td>The strength of $BAND that can resist the pric...</td>\n",
       "    </tr>\n",
       "  </tbody>\n",
       "</table>\n",
       "</div>"
      ],
      "text/plain": [
       "               Date                                              Tweet\n",
       "0  2020-09-26 00:00  I dunno. 505 sat at this Bitcoin price doesn't...\n",
       "1  2020-09-26 02:00  Markaccy reached its highest price on Septembe...\n",
       "2  2020-09-26 04:00  bitcoin will finish the monthly candle above 1...\n",
       "3  2020-09-26 06:00  An asset that is human-made and starts at a pr...\n",
       "4  2020-09-26 07:00  The strength of $BAND that can resist the pric..."
      ]
     },
     "execution_count": 4,
     "metadata": {},
     "output_type": "execute_result"
    }
   ],
   "source": [
    "btc_all = pd.merge(btc_tweets, crypto_tweets, how='outer', on='Date')\n",
    "btc_all.fillna('', inplace=True)\n",
    "btc_all['Tweet'] = btc_all['Tweet_x'] + btc_all['Tweet_y']\n",
    "btc_all.drop(columns=['Tweet_x', 'Tweet_y'], inplace=True)\n",
    "btc_all.to_csv('./btc_all.csv', index=False)\n",
    "btc_all.head()"
   ]
  },
  {
   "cell_type": "code",
   "execution_count": 5,
   "id": "085b6069",
   "metadata": {},
   "outputs": [
    {
     "data": {
      "text/html": [
       "<div>\n",
       "<style scoped>\n",
       "    .dataframe tbody tr th:only-of-type {\n",
       "        vertical-align: middle;\n",
       "    }\n",
       "\n",
       "    .dataframe tbody tr th {\n",
       "        vertical-align: top;\n",
       "    }\n",
       "\n",
       "    .dataframe thead th {\n",
       "        text-align: right;\n",
       "    }\n",
       "</style>\n",
       "<table border=\"1\" class=\"dataframe\">\n",
       "  <thead>\n",
       "    <tr style=\"text-align: right;\">\n",
       "      <th></th>\n",
       "      <th>Date</th>\n",
       "      <th>Tweet</th>\n",
       "    </tr>\n",
       "  </thead>\n",
       "  <tbody>\n",
       "    <tr>\n",
       "      <th>0</th>\n",
       "      <td>2020-09-26 19:00</td>\n",
       "      <td>Let me give you the price action for today TIM...</td>\n",
       "    </tr>\n",
       "    <tr>\n",
       "      <th>1</th>\n",
       "      <td>2020-09-28 07:00</td>\n",
       "      <td>Why traders are not worried that the KuCoin ha...</td>\n",
       "    </tr>\n",
       "    <tr>\n",
       "      <th>2</th>\n",
       "      <td>2020-09-30 15:00</td>\n",
       "      <td>I hope to markacy to soon listed big exchange ...</td>\n",
       "    </tr>\n",
       "    <tr>\n",
       "      <th>3</th>\n",
       "      <td>2020-10-01 16:00</td>\n",
       "      <td>Without mania, without the dream of selling to...</td>\n",
       "    </tr>\n",
       "    <tr>\n",
       "      <th>4</th>\n",
       "      <td>2020-10-06 13:00</td>\n",
       "      <td>crypto mining best ethereum pools pull ethereu...</td>\n",
       "    </tr>\n",
       "  </tbody>\n",
       "</table>\n",
       "</div>"
      ],
      "text/plain": [
       "               Date                                              Tweet\n",
       "0  2020-09-26 19:00  Let me give you the price action for today TIM...\n",
       "1  2020-09-28 07:00  Why traders are not worried that the KuCoin ha...\n",
       "2  2020-09-30 15:00  I hope to markacy to soon listed big exchange ...\n",
       "3  2020-10-01 16:00  Without mania, without the dream of selling to...\n",
       "4  2020-10-06 13:00  crypto mining best ethereum pools pull ethereu..."
      ]
     },
     "execution_count": 5,
     "metadata": {},
     "output_type": "execute_result"
    }
   ],
   "source": [
    "eth_all = pd.merge(eth_tweets, crypto_tweets, how='outer', on='Date')\n",
    "eth_all.fillna('', inplace=True)\n",
    "eth_all['Tweet'] = eth_all['Tweet_x'] + eth_all['Tweet_y']\n",
    "eth_all.drop(columns=['Tweet_x', 'Tweet_y'], inplace=True)\n",
    "eth_all.to_csv('./eth_all.csv', index=False)\n",
    "eth_all.head()"
   ]
  },
  {
   "cell_type": "code",
   "execution_count": 6,
   "id": "e7dd0662",
   "metadata": {},
   "outputs": [],
   "source": [
    "def basic_cleaning(text):\n",
    "    text=re.sub(r'https?://www\\.\\S+\\.com','',text)\n",
    "    text=re.sub(r'[^A-Za-z|\\s]','',text)\n",
    "    text=re.sub(r'\\*+','swear',text) #capture swear words that are **** out\n",
    "    return text\n",
    "\n",
    "def remove_html(text):\n",
    "    html=re.compile(r'<.*?>')\n",
    "    return html.sub(r'',text)\n",
    "\n",
    "def remove_emoji(text):\n",
    "    emoji_pattern = re.compile(\"[\"\n",
    "                           u\"\\U0001F600-\\U0001F64F\"  # emoticons\n",
    "                           u\"\\U0001F300-\\U0001F5FF\"  # symbols & pictographs\n",
    "                           u\"\\U0001F680-\\U0001F6FF\"  # transport & map symbols\n",
    "                           u\"\\U0001F1E0-\\U0001F1FF\"  # flags (iOS)\n",
    "                           u\"\\U00002702-\\U000027B0\"\n",
    "                           u\"\\U000024C2-\\U0001F251\"\n",
    "                           \"]+\", flags=re.UNICODE)\n",
    "    return emoji_pattern.sub(r'', text)\n",
    "\n",
    "def remove_multiplechars(text):\n",
    "    text = re.sub(r'(.)\\1{3,}',r'\\1', text)\n",
    "    return text\n",
    "\n",
    "def cleaning_all(df):\n",
    "    for col in ['Tweet']:\n",
    "        df[col]=df[col].astype(str).apply(lambda x:basic_cleaning(x))\n",
    "        df[col]=df[col].astype(str).apply(lambda x:remove_emoji(x))\n",
    "        df[col]=df[col].astype(str).apply(lambda x:remove_html(x))\n",
    "        df[col]=df[col].astype(str).apply(lambda x:remove_multiplechars(x))"
   ]
  },
  {
   "cell_type": "code",
   "execution_count": 7,
   "id": "ef8ebf0c",
   "metadata": {},
   "outputs": [],
   "source": [
    "cleaning_all(btc_all)\n",
    "cleaning_all(eth_all)\n",
    "\n",
    "btc_all.to_csv('./btc_all.csv', index=False)\n",
    "eth_all.to_csv('./eth_all.csv', index=False)"
   ]
  }
 ],
 "metadata": {
  "kernelspec": {
   "display_name": "Python 3 (ipykernel)",
   "language": "python",
   "name": "python3"
  },
  "language_info": {
   "codemirror_mode": {
    "name": "ipython",
    "version": 3
   },
   "file_extension": ".py",
   "mimetype": "text/x-python",
   "name": "python",
   "nbconvert_exporter": "python",
   "pygments_lexer": "ipython3",
   "version": "3.7.4"
  },
  "toc": {
   "base_numbering": 1,
   "nav_menu": {},
   "number_sections": true,
   "sideBar": true,
   "skip_h1_title": false,
   "title_cell": "Table of Contents",
   "title_sidebar": "Contents",
   "toc_cell": false,
   "toc_position": {},
   "toc_section_display": true,
   "toc_window_display": false
  }
 },
 "nbformat": 4,
 "nbformat_minor": 5
}
